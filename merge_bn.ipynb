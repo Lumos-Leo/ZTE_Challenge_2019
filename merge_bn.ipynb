{
 "cells": [
  {
   "cell_type": "code",
   "execution_count": 1,
   "metadata": {},
   "outputs": [],
   "source": [
    "import caffe\n",
    "import numpy as np"
   ]
  },
  {
   "cell_type": "code",
   "execution_count": 2,
   "metadata": {},
   "outputs": [],
   "source": [
    "net = caffe.Net(\"./models/origin/TestModel.prototxt\", \"./models/origin/TestModel.caffemodel\", caffe.TEST)"
   ]
  },
  {
   "cell_type": "code",
   "execution_count": 3,
   "metadata": {},
   "outputs": [],
   "source": [
    "conv_with_bn = ['conv1_1_1', 'conv1_2_1', 'conv1_2_2', 'conv1_3_1']"
   ]
  },
  {
   "cell_type": "code",
   "execution_count": 4,
   "metadata": {},
   "outputs": [],
   "source": [
    "new_params = {}\n",
    "for conv_name in conv_with_bn:\n",
    "    weight, bias = net.params[conv_name]\n",
    "    weight = weight.data\n",
    "    bias = bias.data\n",
    "    channels = weight.shape[0]\n",
    "    \n",
    "    mean, var, scalef = net.params[conv_name + \"_bn\"]\n",
    "    mean = mean.data\n",
    "    var = var.data\n",
    "    scalef = scalef.data\n",
    "    \n",
    "    scales, shift = net.params[conv_name + \"_scale\"]\n",
    "    scales = scales.data\n",
    "    shift = shift.data\n",
    "    \n",
    "    if scalef != 0:\n",
    "        scalef = 1. / scalef\n",
    "    mean *= scalef\n",
    "    var *= scalef\n",
    "    rstd = 1. / np.sqrt(var + 1e-5)\n",
    "    \n",
    "    new_weight = weight * rstd.reshape((channels,1,1,1)) * scales.reshape((channels,1,1,1))\n",
    "    new_bias = (bias - mean) * rstd * scales + shift\n",
    "    \n",
    "    new_params[conv_name] = new_weight, new_bias.reshape(-1)"
   ]
  },
  {
   "cell_type": "code",
   "execution_count": 5,
   "metadata": {},
   "outputs": [],
   "source": [
    "net2 = caffe.Net(\"./models/no_bn/TestModel.prototxt\", caffe.TEST)"
   ]
  },
  {
   "cell_type": "code",
   "execution_count": 6,
   "metadata": {},
   "outputs": [],
   "source": [
    "for key in net2.params.keys():\n",
    "    if key in new_params:\n",
    "        net2.params[key][0].data[...] = new_params[key][0]\n",
    "        net2.params[key][1].data[...] = new_params[key][1]\n",
    "    else:\n",
    "        net2.params[key][0].data[...] = net.params[key][0].data\n",
    "        net2.params[key][1].data[...] = net.params[key][1].data"
   ]
  },
  {
   "cell_type": "code",
   "execution_count": 7,
   "metadata": {},
   "outputs": [],
   "source": [
    "net2.save(\"./models/no_bn/TestModel.caffemodel\")"
   ]
  }
 ],
 "metadata": {
  "kernelspec": {
   "display_name": "caffe",
   "language": "python",
   "name": "testcaffe"
  },
  "language_info": {
   "codemirror_mode": {
    "name": "ipython",
    "version": 3
   },
   "file_extension": ".py",
   "mimetype": "text/x-python",
   "name": "python",
   "nbconvert_exporter": "python",
   "pygments_lexer": "ipython3",
   "version": "3.5.6"
  }
 },
 "nbformat": 4,
 "nbformat_minor": 2
}
