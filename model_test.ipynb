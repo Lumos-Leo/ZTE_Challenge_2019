{
 "cells": [
  {
   "cell_type": "code",
   "execution_count": 1,
   "metadata": {},
   "outputs": [],
   "source": [
    "import caffe\n",
    "import numpy as np\n",
    "import os"
   ]
  },
  {
   "cell_type": "code",
   "execution_count": 2,
   "metadata": {},
   "outputs": [],
   "source": [
    "image_root = 'images'\n",
    "test_image = ['cat.{}.jpg'.format(i) for i in range(100)]"
   ]
  },
  {
   "cell_type": "code",
   "execution_count": 3,
   "metadata": {},
   "outputs": [],
   "source": [
    "def test(net, input_image=\"images/cat.png\", output_tensor=\"fc5_\"):\n",
    "    transformer = caffe.io.Transformer({'data': net.blobs['data'].data.shape})\n",
    "    transformer.set_transpose('data', (2,0,1))\n",
    "    transformer.set_channel_swap('data', (2,1,0))\n",
    "    \n",
    "    image = caffe.io.load_image(input_image)\n",
    "    transformed_image = transformer.preprocess('data', (image * 255 - 127.5)* 0.0078125 )\n",
    "    net.blobs['data'].reshape(1, 3, 128, 128)\n",
    "    net.blobs['data'].data[...] = transformed_image\n",
    "\n",
    "    output = net.forward()\n",
    "    return output[output_tensor].reshape(-1)"
   ]
  },
  {
   "cell_type": "code",
   "execution_count": 4,
   "metadata": {},
   "outputs": [],
   "source": [
    "def cosine_dist(x, y):\n",
    "    return np.dot(x,y)/(np.linalg.norm(x)*np.linalg.norm(y))"
   ]
  },
  {
   "cell_type": "code",
   "execution_count": 5,
   "metadata": {},
   "outputs": [],
   "source": [
    "net = caffe.Net(\"./models/origin/TestModel.prototxt\", \"./models/origin/TestModel.caffemodel\", caffe.TEST)\n",
    "net2 = caffe.Net(\"/media/vanilla/Fun/zhongxing/Test/TestModel.prototxt\", \"/media/vanilla/Fun/zhongxing/Test/TestModel.caffemodel\", caffe.TEST)"
   ]
  },
  {
   "cell_type": "code",
   "execution_count": 6,
   "metadata": {},
   "outputs": [
    {
     "name": "stderr",
     "output_type": "stream",
     "text": [
      "/home/vanilla/.conda/envs/testcaffe/lib/python3.5/site-packages/skimage/io/_io.py:49: UserWarning: `as_grey` has been deprecated in favor of `as_gray`\n",
      "  warn('`as_grey` has been deprecated in favor of `as_gray`')\n",
      "/home/vanilla/.conda/envs/testcaffe/lib/python3.5/site-packages/skimage/transform/_warps.py:105: UserWarning: The default mode, 'constant', will be changed to 'reflect' in skimage 0.15.\n",
      "  warn(\"The default mode, 'constant', will be changed to 'reflect' in \"\n",
      "/home/vanilla/.conda/envs/testcaffe/lib/python3.5/site-packages/skimage/transform/_warps.py:110: UserWarning: Anti-aliasing will be enabled by default in skimage 0.15 to avoid aliasing artifacts when down-sampling images.\n",
      "  warn(\"Anti-aliasing will be enabled by default in skimage 0.15 to \"\n"
     ]
    },
    {
     "name": "stdout",
     "output_type": "stream",
     "text": [
      "0.92824554\n"
     ]
    }
   ],
   "source": [
    "t = []\n",
    "for img in test_image:\n",
    "    output1 = test(net, os.path.join(image_root, img))\n",
    "    output2 = test(net2, os.path.join(image_root, img))\n",
    "#     print(cosine_dist(output1, output2))\n",
    "    t.append(cosine_dist(output1, output2))\n",
    "print(np.mean(t))"
   ]
  }
 ],
 "metadata": {
  "kernelspec": {
   "display_name": "caffe",
   "language": "python",
   "name": "testcaffe"
  },
  "language_info": {
   "codemirror_mode": {
    "name": "ipython",
    "version": 3
   },
   "file_extension": ".py",
   "mimetype": "text/x-python",
   "name": "python",
   "nbconvert_exporter": "python",
   "pygments_lexer": "ipython3",
   "version": "3.5.6"
  }
 },
 "nbformat": 4,
 "nbformat_minor": 2
}
