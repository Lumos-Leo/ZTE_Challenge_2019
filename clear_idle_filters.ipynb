{
 "cells": [
  {
   "cell_type": "code",
   "execution_count": 1,
   "metadata": {},
   "outputs": [],
   "source": [
    "import caffe\n",
    "import numpy as np\n",
    "import shutil"
   ]
  },
  {
   "cell_type": "code",
   "execution_count": 2,
   "metadata": {},
   "outputs": [],
   "source": [
    "root = \"/media/vanilla/Fun/zhongxing/Test/\"\n",
    "model = \"/media/vanilla/Fun/zhongxing/banben/TestModel.caffemodel\"\n",
    "prototxt = \"/media/vanilla/Fun/zhongxing/banben/TestModel.prototxt\"\n",
    "caffe.set_mode_gpu()\n",
    "net = caffe.Net(prototxt, model, caffe.TEST)"
   ]
  },
  {
   "cell_type": "code",
   "execution_count": 3,
   "metadata": {},
   "outputs": [],
   "source": [
    "class Pruner(object):\n",
    "    def __init__(self, net):\n",
    "        self._net = net\n",
    "        self.conv_data = {}\n",
    "        \n",
    "    def prune_res_conv(self, name, bottom=None, ref='conv3_1_1b'):\n",
    "        self.conv_data[name] = self._prune_res(self._net.params[name], del_kernels=self.conv_data[bottom][2],not_del_filters=True,ref=self.conv_data[ref][2])\n",
    "        \n",
    "    def _prune_res(self, conv_param, del_kernels=None, not_del_filters=False,ref=None):\n",
    "        weight, bias = conv_param\n",
    "        weight = weight.data\n",
    "        bias = bias.data\n",
    "        origin_channels = weight.shape[0]\n",
    "        print(\"weight original:\"+str(weight.shape))\n",
    "        \n",
    "        if ref is not None:\n",
    "            weight = np.delete(weight, ref, axis=0)\n",
    "            bias = np.delete(bias, ref, axis=0)\n",
    "        # delete filters\n",
    "        if not not_del_filters:\n",
    "#             abs_mean = np.abs(weight).mean(axis=(1,2,3))\n",
    "#             del_filters = np.where(abs_mean < 8e-2)[0]\n",
    "            sum_l1 = {}\n",
    "            temp = []\n",
    "            for i in range(weight.shape[0]):\n",
    "                sum_l1[str(np.sum(abs(weight[i, :, :, :])))] = i # sum_l1存放每个卷积核的所有权重绝对值之和\n",
    "            del_filters = []  # de_keral存放大于阈值的卷积核的序号\n",
    "            for i in sum_l1:\n",
    "                temp.append(float(i))\n",
    "            temp.sort()\n",
    "#             print(temp)\n",
    "            for i in range(int(len(temp)*0.07)):\n",
    "                del_filters.append(sum_l1[str(temp[i])])\n",
    "            weight = np.delete(weight, del_filters, axis=0)\n",
    "            bias = np.delete(bias, del_filters, axis=0)\n",
    "        else:\n",
    "            del_filters = np.array([])\n",
    "        print(\"weight cut nums:\"+str(weight.shape))\n",
    "        # delete kernels\n",
    "        if del_kernels is not None:\n",
    "            weight = np.delete(weight, del_kernels, axis=1)\n",
    "        print(\"weight cut channels:\"+str(weight.shape))\n",
    "            \n",
    "        return weight, bias, del_filters, origin_channels\n",
    "        \n",
    "        \n",
    "        \n",
    "        \n",
    "    def _prune(self, conv_param, del_kernels=None, not_del_filters=False,ref=None):\n",
    "        weight, bias = conv_param\n",
    "        weight = weight.data\n",
    "        bias = bias.data\n",
    "        origin_channels = weight.shape[0]\n",
    "        print(\"weight original:\"+str(weight.shape))\n",
    "        if ref is not None:\n",
    "            weight = np.reshape(weight, (512,1536,9,9))\n",
    "            print(\"weight original reshape:\"+str(weight.shape))\n",
    "        \n",
    "        # delete filters\n",
    "        if not not_del_filters:\n",
    "#             abs_mean = np.abs(weight).mean(axis=(1,2,3))\n",
    "#             del_filters = np.where(abs_mean < 1.2e-3)[0]\n",
    "            sum_l1 = {}\n",
    "            temp = []\n",
    "            for i in range(weight.shape[0]):\n",
    "                sum_l1[str(np.sum(abs(weight[i, :, :, :])))] = i # sum_l1存放每个卷积核的所有权重绝对值之和\n",
    "            del_filters = []  # de_keral存放大于阈值的卷积核的序号\n",
    "            for i in sum_l1:\n",
    "                temp.append(float(i))\n",
    "            temp.sort()\n",
    "#             print(temp)\n",
    "            for i in range(int(len(temp)*0.07)):\n",
    "                del_filters.append(sum_l1[str(temp[i])])\n",
    "            weight = np.delete(weight, del_filters, axis=0)\n",
    "            bias = np.delete(bias, del_filters, axis=0)\n",
    "        else:\n",
    "            del_filters = np.array([])\n",
    "        print(\"weight cut nums:\"+str(weight.shape))\n",
    "        # delete kernels\n",
    "        if del_kernels is not None:\n",
    "            weight = np.delete(weight, del_kernels, axis=1)\n",
    "        if ref is not None:\n",
    "            weight = np.reshape(weight, (512,-1))\n",
    "            print(\"weight original reshape:\"+str(weight.shape))\n",
    "        print(\"weight cut channels:\"+str(weight.shape))    \n",
    "        return weight, bias, del_filters, origin_channels\n",
    "    \n",
    "    def prune_conv(self, name, bottom=None):\n",
    "        if bottom is None:\n",
    "            self.conv_data[name] = self._prune(self._net.params[name])\n",
    "        else:\n",
    "            self.conv_data[name] = self._prune(self._net.params[name], self.conv_data[bottom][2])\n",
    "#         if name == 'conv2_5' or name == 'conv2_6' or name == 'conv2_7' or name == 'conv2_8':\n",
    "#             self.conv_data[name] = 0, 0, [], 0\n",
    "            \n",
    "    def prune_concat(self, name, bottoms):\n",
    "        offsets = [0] + [self.conv_data[b][3] for b in bottoms]\n",
    "        for i in range(1, len(offsets)):\n",
    "            offsets[i] += offsets[i-1]\n",
    "        del_filters = [np.asarray(self.conv_data[b][2]) + offsets[i] for i, b in enumerate(bottoms)]\n",
    "        del_filters_new = np.concatenate(del_filters)\n",
    "        if name == 'fc5_':\n",
    "            self.conv_data[name] = self._prune(self._net.params[name], del_filters_new, not_del_filters=True,ref='fc5_')\n",
    "        elif name == 'conv5_1_1'or name == 'conv5_1_1b':\n",
    "            self.conv_data[name] = self._prune(self._net.params[name], del_filters_new, not_del_filters=False)\n",
    "        else:\n",
    "            self.conv_data[name] = self._prune(self._net.params[name], del_filters_new, not_del_filters=True)\n",
    "        \n",
    "    def prune_sum(self, name, ref):\n",
    "        del_kernels = self.conv_data[ref][2]\n",
    "        self.conv_data[name] = self._prune_res(self._net.params[name], del_kernels=del_kernels, not_del_filters=True,ref=None)\n",
    "        \n",
    "    def save(self, new_model, output_weights):\n",
    "        net2 = caffe.Net(new_model, caffe.TEST)\n",
    "        for key in net2.params.keys():\n",
    "            if key in self.conv_data:\n",
    "                net2.params[key][0].data[...] = self.conv_data[key][0]\n",
    "                net2.params[key][1].data[...] = self.conv_data[key][1]\n",
    "            else:\n",
    "                net2.params[key][0].data[...] = net.params[key][0].data\n",
    "                net2.params[key][1].data[...] = net.params[key][1].data\n",
    "        net2.save(output_weights)"
   ]
  },
  {
   "cell_type": "code",
   "execution_count": 4,
   "metadata": {},
   "outputs": [],
   "source": [
    "pruner = Pruner(net)"
   ]
  },
  {
   "cell_type": "code",
   "execution_count": 5,
   "metadata": {},
   "outputs": [
    {
     "name": "stdout",
     "output_type": "stream",
     "text": [
      "weight original:(32, 3, 3, 3)\n",
      "weight cut nums:(30, 3, 3, 3)\n",
      "weight cut channels:(30, 3, 3, 3)\n",
      "weight original:(32, 3, 3, 3)\n",
      "weight cut nums:(30, 3, 3, 3)\n",
      "weight cut channels:(30, 3, 3, 3)\n",
      "weight original:(32, 32, 3, 3)\n",
      "weight cut nums:(30, 32, 3, 3)\n",
      "weight cut channels:(30, 30, 3, 3)\n",
      "weight original:(32, 3, 3, 3)\n",
      "weight cut nums:(30, 3, 3, 3)\n",
      "weight cut channels:(30, 3, 3, 3)\n",
      "weight original:(32, 32, 3, 3)\n",
      "weight cut nums:(30, 32, 3, 3)\n",
      "weight cut channels:(30, 30, 3, 3)\n",
      "weight original:(32, 32, 3, 3)\n",
      "weight cut nums:(30, 32, 3, 3)\n",
      "weight cut channels:(30, 30, 3, 3)\n"
     ]
    }
   ],
   "source": [
    "pruner.prune_conv(\"conv1_1_1\")\n",
    "pruner.prune_conv(\"conv1_2_1\")\n",
    "pruner.prune_conv(\"conv1_2_2\", \"conv1_2_1\")\n",
    "pruner.prune_conv(\"conv1_3_1\")\n",
    "pruner.prune_conv(\"conv1_3_2\", \"conv1_3_1\")\n",
    "pruner.prune_conv(\"conv1_3_3\", \"conv1_3_2\")"
   ]
  },
  {
   "cell_type": "code",
   "execution_count": 6,
   "metadata": {},
   "outputs": [
    {
     "name": "stdout",
     "output_type": "stream",
     "text": [
      "weight original:(64, 96, 3, 3)\n",
      "weight cut nums:(64, 96, 3, 3)\n",
      "weight cut channels:(64, 90, 3, 3)\n",
      "weight original:(64, 64, 3, 3)\n",
      "weight cut nums:(60, 64, 3, 3)\n",
      "weight cut channels:(60, 64, 3, 3)\n",
      "weight original:(64, 64, 3, 3)\n",
      "weight cut nums:(60, 64, 3, 3)\n",
      "weight cut channels:(60, 60, 3, 3)\n",
      "weight original:(64, 64, 3, 3)\n",
      "weight cut nums:(60, 64, 3, 3)\n",
      "weight cut channels:(60, 60, 3, 3)\n",
      "weight original:(64, 64, 3, 3)\n",
      "weight cut nums:(60, 64, 3, 3)\n",
      "weight cut channels:(60, 60, 3, 3)\n",
      "weight original:(64, 64, 3, 3)\n",
      "weight cut nums:(60, 64, 3, 3)\n",
      "weight cut channels:(60, 60, 3, 3)\n",
      "weight original:(64, 64, 3, 3)\n",
      "weight cut nums:(60, 64, 3, 3)\n",
      "weight cut channels:(60, 60, 3, 3)\n",
      "weight original:(64, 64, 3, 3)\n",
      "weight cut nums:(60, 64, 3, 3)\n",
      "weight cut channels:(60, 60, 3, 3)\n"
     ]
    },
    {
     "name": "stderr",
     "output_type": "stream",
     "text": [
      "/home/vanilla/.conda/envs/testcaffe/lib/python3.5/site-packages/ipykernel_launcher.py:81: DeprecationWarning: using a non-integer array as obj in delete will result in an error in the future\n"
     ]
    }
   ],
   "source": [
    "pruner.prune_concat(\"conv2_1\", (\"conv1_1_1\", \"conv1_2_2\", \"conv1_3_3\"))\n",
    "pruner.prune_conv(\"conv2_2\", \"conv2_1\")\n",
    "pruner.prune_conv(\"conv2_3\", \"conv2_2\")\n",
    "pruner.prune_conv(\"conv2_4\", \"conv2_3\")\n",
    "pruner.prune_conv(\"conv2_5\", \"conv2_4\")\n",
    "pruner.prune_conv(\"conv2_6\", \"conv2_5\")\n",
    "pruner.prune_conv(\"conv2_7\", \"conv2_6\")\n",
    "pruner.prune_conv(\"conv2_8\", \"conv2_7\")"
   ]
  },
  {
   "cell_type": "code",
   "execution_count": 7,
   "metadata": {},
   "outputs": [
    {
     "name": "stdout",
     "output_type": "stream",
     "text": [
      "weight original:(128, 256, 1, 1)\n",
      "weight cut nums:(128, 256, 1, 1)\n",
      "weight cut channels:(128, 240, 1, 1)\n",
      "weight original:(128, 256, 3, 3)\n",
      "weight cut nums:(128, 256, 3, 3)\n",
      "weight cut channels:(128, 240, 3, 3)\n"
     ]
    }
   ],
   "source": [
    "pruner.prune_concat(\"conv3_1_1b\", (\"conv2_2\", \"conv2_4\", \"conv2_6\", \"conv2_8\"))\n",
    "pruner.prune_concat(\"conv3_1_1\", (\"conv2_2\", \"conv2_4\", \"conv2_6\", \"conv2_8\"))\n",
    "# pruner.prune_concat(\"conv3_1_1b\", (\"conv2_2\", \"conv2_4\"))\n",
    "# pruner.prune_concat(\"conv3_1_1\", (\"conv2_2\", \"conv2_4\"))"
   ]
  },
  {
   "cell_type": "code",
   "execution_count": 8,
   "metadata": {},
   "outputs": [
    {
     "name": "stdout",
     "output_type": "stream",
     "text": [
      "weight original:(128, 128, 3, 3)\n",
      "weight cut nums:(128, 128, 3, 3)\n",
      "weight cut channels:(128, 128, 3, 3)\n",
      "weight original:(128, 128, 3, 3)\n",
      "weight cut nums:(128, 128, 3, 3)\n",
      "weight cut channels:(128, 128, 3, 3)\n",
      "weight original:(128, 128, 3, 3)\n",
      "weight cut nums:(128, 128, 3, 3)\n",
      "weight cut channels:(128, 128, 3, 3)\n",
      "weight original:(128, 128, 3, 3)\n",
      "weight cut nums:(128, 128, 3, 3)\n",
      "weight cut channels:(128, 128, 3, 3)\n",
      "weight original:(128, 128, 3, 3)\n",
      "weight cut nums:(128, 128, 3, 3)\n",
      "weight cut channels:(128, 128, 3, 3)\n",
      "weight original:(128, 128, 3, 3)\n",
      "weight cut nums:(128, 128, 3, 3)\n",
      "weight cut channels:(128, 128, 3, 3)\n",
      "weight original:(128, 128, 3, 3)\n",
      "weight cut nums:(128, 128, 3, 3)\n",
      "weight cut channels:(128, 128, 3, 3)\n",
      "weight original:(128, 128, 3, 3)\n",
      "weight cut nums:(128, 128, 3, 3)\n",
      "weight cut channels:(128, 128, 3, 3)\n",
      "weight original:(128, 128, 3, 3)\n",
      "weight cut nums:(128, 128, 3, 3)\n",
      "weight cut channels:(128, 128, 3, 3)\n",
      "weight original:(128, 128, 3, 3)\n",
      "weight cut nums:(128, 128, 3, 3)\n",
      "weight cut channels:(128, 128, 3, 3)\n",
      "weight original:(128, 128, 3, 3)\n",
      "weight cut nums:(128, 128, 3, 3)\n",
      "weight cut channels:(128, 128, 3, 3)\n"
     ]
    },
    {
     "name": "stderr",
     "output_type": "stream",
     "text": [
      "/home/vanilla/.conda/envs/testcaffe/lib/python3.5/site-packages/ipykernel_launcher.py:17: DeprecationWarning: using a non-integer array as obj in delete will result in an error in the future\n",
      "/home/vanilla/.conda/envs/testcaffe/lib/python3.5/site-packages/ipykernel_launcher.py:18: DeprecationWarning: using a non-integer array as obj in delete will result in an error in the future\n",
      "/home/vanilla/.conda/envs/testcaffe/lib/python3.5/site-packages/ipykernel_launcher.py:41: DeprecationWarning: using a non-integer array as obj in delete will result in an error in the future\n"
     ]
    }
   ],
   "source": [
    "# residual layers cut\n",
    "pruner.prune_res_conv(\"conv3_1_2\", \"conv3_1_1\",\"conv3_1_1b\")\n",
    "pruner.prune_sum(\"conv3_2_1\", \"conv3_1_1b\")\n",
    "pruner.prune_res_conv(\"conv3_2_2\", \"conv3_2_1\",\"conv3_1_1b\")\n",
    "pruner.prune_sum(\"conv3_3_1\", \"conv3_1_1b\")\n",
    "pruner.prune_res_conv(\"conv3_3_2\", \"conv3_3_1\",\"conv3_1_1b\")\n",
    "pruner.prune_sum(\"conv3_4_1\", \"conv3_1_1b\")\n",
    "pruner.prune_res_conv(\"conv3_4_2\", \"conv3_4_1\",\"conv3_1_1b\")\n",
    "pruner.prune_sum(\"conv3_5_1\", \"conv3_1_1b\")\n",
    "pruner.prune_res_conv(\"conv3_5_2\", \"conv3_5_1\",\"conv3_1_1b\")\n",
    "pruner.prune_sum(\"conv3_6_1\", \"conv3_1_1b\")\n",
    "pruner.prune_res_conv(\"conv3_6_2\", \"conv3_6_1\",\"conv3_1_1b\")"
   ]
  },
  {
   "cell_type": "code",
   "execution_count": 9,
   "metadata": {},
   "outputs": [
    {
     "name": "stdout",
     "output_type": "stream",
     "text": [
      "weight original:(256, 384, 1, 1)\n",
      "weight cut nums:(256, 384, 1, 1)\n",
      "weight cut channels:(256, 384, 1, 1)\n",
      "weight original:(256, 384, 3, 3)\n",
      "weight cut nums:(256, 384, 3, 3)\n",
      "weight cut channels:(256, 384, 3, 3)\n"
     ]
    },
    {
     "name": "stderr",
     "output_type": "stream",
     "text": [
      "/home/vanilla/.conda/envs/testcaffe/lib/python3.5/site-packages/ipykernel_launcher.py:81: DeprecationWarning: using a non-integer array as obj in delete will result in an error in the future\n"
     ]
    }
   ],
   "source": [
    "pruner.prune_concat(\"conv4_1_1b\", (\"conv3_1_1b\", \"conv3_1_1b\", \"conv3_1_1b\"))\n",
    "pruner.prune_concat(\"conv4_1_1\", (\"conv3_1_1b\", \"conv3_1_1b\", \"conv3_1_1b\"))"
   ]
  },
  {
   "cell_type": "code",
   "execution_count": 10,
   "metadata": {},
   "outputs": [
    {
     "name": "stdout",
     "output_type": "stream",
     "text": [
      "weight original:(256, 256, 3, 3)\n",
      "weight cut nums:(256, 256, 3, 3)\n",
      "weight cut channels:(256, 256, 3, 3)\n",
      "weight original:(256, 256, 3, 3)\n",
      "weight cut nums:(256, 256, 3, 3)\n",
      "weight cut channels:(256, 256, 3, 3)\n",
      "weight original:(256, 256, 3, 3)\n",
      "weight cut nums:(256, 256, 3, 3)\n",
      "weight cut channels:(256, 256, 3, 3)\n",
      "weight original:(256, 256, 3, 3)\n",
      "weight cut nums:(256, 256, 3, 3)\n",
      "weight cut channels:(256, 256, 3, 3)\n",
      "weight original:(256, 256, 3, 3)\n",
      "weight cut nums:(256, 256, 3, 3)\n",
      "weight cut channels:(256, 256, 3, 3)\n",
      "weight original:(256, 256, 3, 3)\n",
      "weight cut nums:(256, 256, 3, 3)\n",
      "weight cut channels:(256, 256, 3, 3)\n",
      "weight original:(256, 256, 3, 3)\n",
      "weight cut nums:(256, 256, 3, 3)\n",
      "weight cut channels:(256, 256, 3, 3)\n",
      "weight original:(256, 256, 3, 3)\n",
      "weight cut nums:(256, 256, 3, 3)\n",
      "weight cut channels:(256, 256, 3, 3)\n",
      "weight original:(256, 256, 3, 3)\n",
      "weight cut nums:(256, 256, 3, 3)\n",
      "weight cut channels:(256, 256, 3, 3)\n",
      "weight original:(256, 256, 3, 3)\n",
      "weight cut nums:(256, 256, 3, 3)\n",
      "weight cut channels:(256, 256, 3, 3)\n",
      "weight original:(256, 256, 3, 3)\n",
      "weight cut nums:(256, 256, 3, 3)\n",
      "weight cut channels:(256, 256, 3, 3)\n"
     ]
    },
    {
     "name": "stderr",
     "output_type": "stream",
     "text": [
      "/home/vanilla/.conda/envs/testcaffe/lib/python3.5/site-packages/ipykernel_launcher.py:17: DeprecationWarning: using a non-integer array as obj in delete will result in an error in the future\n",
      "/home/vanilla/.conda/envs/testcaffe/lib/python3.5/site-packages/ipykernel_launcher.py:18: DeprecationWarning: using a non-integer array as obj in delete will result in an error in the future\n",
      "/home/vanilla/.conda/envs/testcaffe/lib/python3.5/site-packages/ipykernel_launcher.py:41: DeprecationWarning: using a non-integer array as obj in delete will result in an error in the future\n"
     ]
    }
   ],
   "source": [
    "# residual layers cut\n",
    "pruner.prune_res_conv(\"conv4_1_2\", \"conv4_1_1\",\"conv4_1_1b\")\n",
    "pruner.prune_sum(\"conv4_2_1\", \"conv4_1_1b\")\n",
    "pruner.prune_res_conv(\"conv4_2_2\", \"conv4_2_1\",\"conv4_1_1b\")\n",
    "pruner.prune_sum(\"conv4_3_1\", \"conv4_1_1b\")\n",
    "pruner.prune_res_conv(\"conv4_3_2\", \"conv4_3_1\",\"conv4_1_1b\")\n",
    "pruner.prune_sum(\"conv4_4_1\", \"conv4_1_1b\")\n",
    "pruner.prune_res_conv(\"conv4_4_2\", \"conv4_4_1\",\"conv4_1_1b\")\n",
    "pruner.prune_sum(\"conv4_5_1\", \"conv4_1_1b\")\n",
    "pruner.prune_res_conv(\"conv4_5_2\", \"conv4_5_1\",\"conv4_1_1b\")\n",
    "pruner.prune_sum(\"conv4_6_1\", \"conv4_1_1b\")\n",
    "pruner.prune_res_conv(\"conv4_6_2\", \"conv4_6_1\",\"conv4_1_1b\")"
   ]
  },
  {
   "cell_type": "code",
   "execution_count": 11,
   "metadata": {},
   "outputs": [
    {
     "name": "stdout",
     "output_type": "stream",
     "text": [
      "weight original:(512, 768, 1, 1)\n",
      "weight cut nums:(477, 768, 1, 1)\n",
      "weight cut channels:(477, 768, 1, 1)\n",
      "weight original:(512, 768, 1, 1)\n",
      "weight cut nums:(477, 768, 1, 1)\n",
      "weight cut channels:(477, 768, 1, 1)\n"
     ]
    },
    {
     "name": "stderr",
     "output_type": "stream",
     "text": [
      "/home/vanilla/.conda/envs/testcaffe/lib/python3.5/site-packages/ipykernel_launcher.py:81: DeprecationWarning: using a non-integer array as obj in delete will result in an error in the future\n"
     ]
    }
   ],
   "source": [
    "pruner.prune_concat(\"conv5_1_1b\", (\"conv4_1_1b\", \"conv4_1_1b\", \"conv4_1_1b\"))\n",
    "pruner.prune_concat(\"conv5_1_1\", (\"conv4_1_1b\", \"conv4_1_1b\", \"conv4_1_1b\"))"
   ]
  },
  {
   "cell_type": "code",
   "execution_count": 12,
   "metadata": {},
   "outputs": [
    {
     "name": "stdout",
     "output_type": "stream",
     "text": [
      "weight original:(512, 512, 1, 1)\n",
      "weight cut nums:(477, 512, 1, 1)\n",
      "weight cut channels:(477, 477, 1, 1)\n",
      "weight original:(512, 512, 1, 1)\n",
      "weight cut nums:(512, 512, 1, 1)\n",
      "weight cut channels:(512, 477, 1, 1)\n",
      "weight original:(512, 512, 1, 1)\n",
      "weight cut nums:(477, 512, 1, 1)\n",
      "weight cut channels:(477, 512, 1, 1)\n",
      "weight original:(512, 512, 1, 1)\n",
      "weight cut nums:(512, 512, 1, 1)\n",
      "weight cut channels:(512, 477, 1, 1)\n",
      "weight original:(512, 512, 1, 1)\n",
      "weight cut nums:(477, 512, 1, 1)\n",
      "weight cut channels:(477, 512, 1, 1)\n",
      "weight original:(512, 512, 1, 1)\n",
      "weight cut nums:(512, 512, 1, 1)\n",
      "weight cut channels:(512, 477, 1, 1)\n",
      "weight original:(512, 512, 1, 1)\n",
      "weight cut nums:(477, 512, 1, 1)\n",
      "weight cut channels:(477, 512, 1, 1)\n",
      "weight original:(512, 512, 1, 1)\n",
      "weight cut nums:(512, 512, 1, 1)\n",
      "weight cut channels:(512, 477, 1, 1)\n",
      "weight original:(512, 512, 1, 1)\n",
      "weight cut nums:(477, 512, 1, 1)\n",
      "weight cut channels:(477, 512, 1, 1)\n",
      "weight original:(512, 512, 1, 1)\n",
      "weight cut nums:(512, 512, 1, 1)\n",
      "weight cut channels:(512, 477, 1, 1)\n",
      "weight original:(512, 512, 1, 1)\n",
      "weight cut nums:(477, 512, 1, 1)\n",
      "weight cut channels:(477, 512, 1, 1)\n"
     ]
    },
    {
     "name": "stderr",
     "output_type": "stream",
     "text": [
      "/home/vanilla/.conda/envs/testcaffe/lib/python3.5/site-packages/ipykernel_launcher.py:41: DeprecationWarning: using a non-integer array as obj in delete will result in an error in the future\n"
     ]
    }
   ],
   "source": [
    "# residual layers cut\n",
    "pruner.prune_res_conv(\"conv5_1_2\", \"conv5_1_1\",\"conv5_1_1b\")\n",
    "pruner.prune_sum(\"conv5_2_1\", \"conv5_1_1b\")\n",
    "pruner.prune_res_conv(\"conv5_2_2\", \"conv5_2_1\",\"conv5_1_1b\")\n",
    "pruner.prune_sum(\"conv5_3_1\", \"conv5_1_1b\")\n",
    "pruner.prune_res_conv(\"conv5_3_2\", \"conv5_3_1\",\"conv5_1_1b\")\n",
    "pruner.prune_sum(\"conv5_4_1\", \"conv5_1_1b\")\n",
    "pruner.prune_res_conv(\"conv5_4_2\", \"conv5_4_1\",\"conv5_1_1b\")\n",
    "pruner.prune_sum(\"conv5_5_1\", \"conv5_1_1b\")\n",
    "pruner.prune_res_conv(\"conv5_5_2\", \"conv5_5_1\",\"conv5_1_1b\")\n",
    "pruner.prune_sum(\"conv5_6_1\", \"conv5_1_1b\")\n",
    "pruner.prune_res_conv(\"conv5_6_2\", \"conv5_6_1\",\"conv5_1_1b\")"
   ]
  },
  {
   "cell_type": "code",
   "execution_count": 13,
   "metadata": {},
   "outputs": [
    {
     "name": "stdout",
     "output_type": "stream",
     "text": [
      "weight original:(512, 124416)\n",
      "weight original reshape:(512, 1536, 9, 9)\n",
      "weight cut nums:(512, 1536, 9, 9)\n",
      "weight original reshape:(512, 115911)\n",
      "weight cut channels:(512, 115911)\n"
     ]
    }
   ],
   "source": [
    "pruner.prune_concat(\"fc5_\", (\"conv5_1_1b\", \"conv5_1_1b\", \"conv5_1_1b\"))"
   ]
  },
  {
   "cell_type": "code",
   "execution_count": 14,
   "metadata": {
    "scrolled": true
   },
   "outputs": [
    {
     "data": {
      "text/plain": [
       "[('conv4_2_1', 256),\n",
       " ('conv4_5_1', 256),\n",
       " ('conv3_5_1', 128),\n",
       " ('conv4_4_1', 256),\n",
       " ('fc5_', 512),\n",
       " ('conv5_1_2', 477),\n",
       " ('conv5_4_1', 512),\n",
       " ('conv5_4_2', 477),\n",
       " ('conv4_1_1b', 256),\n",
       " ('conv1_1_1', 30),\n",
       " ('conv5_2_1', 512),\n",
       " ('conv5_3_1', 512),\n",
       " ('conv3_1_2', 128),\n",
       " ('conv4_3_1', 256),\n",
       " ('conv3_4_2', 128),\n",
       " ('conv5_2_2', 477),\n",
       " ('conv2_8', 60),\n",
       " ('conv4_6_2', 256),\n",
       " ('conv3_6_1', 128),\n",
       " ('conv2_5', 60),\n",
       " ('conv3_2_2', 128),\n",
       " ('conv3_3_1', 128),\n",
       " ('conv4_3_2', 256),\n",
       " ('conv3_4_1', 128),\n",
       " ('conv5_3_2', 477),\n",
       " ('conv3_5_2', 128),\n",
       " ('conv3_2_1', 128),\n",
       " ('conv4_1_1', 256),\n",
       " ('conv5_5_1', 512),\n",
       " ('conv1_3_3', 30),\n",
       " ('conv1_2_2', 30),\n",
       " ('conv2_1', 64),\n",
       " ('conv5_5_2', 477),\n",
       " ('conv4_1_2', 256),\n",
       " ('conv3_1_1', 128),\n",
       " ('conv1_3_1', 30),\n",
       " ('conv3_3_2', 128),\n",
       " ('conv1_2_1', 30),\n",
       " ('conv5_1_1b', 477),\n",
       " ('conv1_3_2', 30),\n",
       " ('conv5_1_1', 477),\n",
       " ('conv2_4', 60),\n",
       " ('conv5_6_2', 477),\n",
       " ('conv3_6_2', 128),\n",
       " ('conv2_3', 60),\n",
       " ('conv3_1_1b', 128),\n",
       " ('conv2_7', 60),\n",
       " ('conv2_2', 60),\n",
       " ('conv4_2_2', 256),\n",
       " ('conv4_4_2', 256),\n",
       " ('conv2_6', 60),\n",
       " ('conv4_6_1', 256),\n",
       " ('conv4_5_2', 256),\n",
       " ('conv5_6_1', 512)]"
      ]
     },
     "execution_count": 14,
     "metadata": {},
     "output_type": "execute_result"
    }
   ],
   "source": [
    "[(k, v[0].shape[0]) for k, v in pruner.conv_data.items() if v[0] is not None]"
   ]
  },
  {
   "cell_type": "code",
   "execution_count": 15,
   "metadata": {},
   "outputs": [],
   "source": [
    "def get_prototxt(pk, pro_n):  # 复制原来的prototxt,并修改修剪层的num_output,这一段代码有点绕,有空的话优化为几个单独的函数或者弄个类\n",
    "    with open(pro_n, \"r\") as p:\n",
    "        lines = p.readlines()\n",
    "    k = 0\n",
    "    with open(pro_n, \"w\") as p:\n",
    "        while k < len(lines):  # 遍历所有的lines,此处不宜用for.\n",
    "#             print(\"lines[k]:\",lines[k])\n",
    "            if 'name:' in lines[k]:\n",
    "#                 print(\"lines[k].split:\",lines[k].split('\"')[1])\n",
    "#                 print(pk.keys())\n",
    "                l_name = lines[k].split('\"')[1]  # 获取layer name\n",
    "                if l_name in pk.keys():  # 如果name在待修剪层中,则需要修改,下面进入一个找channel的循环块.\n",
    "                    while True:\n",
    "                        if \"num_output:\" in lines[k]:\n",
    "                            channel_n = \"    num_output: \" + str(len(pk[l_name][0])) + \"\\n\"\n",
    "#                             print(channel_n)\n",
    "                            p.write(channel_n)\n",
    "                            k = k + 1\n",
    "                            break\n",
    "                        else:\n",
    "                            p.write(lines[k])\n",
    "                            k = k + 1\n",
    "                else:  # name不在待修剪层中,直接copy行\n",
    "                    p.write(lines[k])\n",
    "                    k = k + 1\n",
    " \n",
    "            else:\n",
    "                p.write(lines[k])\n",
    "                k = k + 1\n",
    "    print(\"deploy_rebirth_prune.prototxt已写好\")"
   ]
  },
  {
   "cell_type": "code",
   "execution_count": 16,
   "metadata": {},
   "outputs": [
    {
     "name": "stdout",
     "output_type": "stream",
     "text": [
      "deploy_rebirth_prune.prototxt已写好\n"
     ]
    }
   ],
   "source": [
    "pro_n = root + \"TestModel.prototxt\"\n",
    "shutil.copyfile(prototxt, pro_n)\n",
    "get_prototxt(pruner.conv_data, pro_n)"
   ]
  },
  {
   "cell_type": "code",
   "execution_count": 17,
   "metadata": {},
   "outputs": [],
   "source": [
    "# You should modify the number of channels in new prototxt before save\n",
    "pruner.save(pro_n, \"/media/vanilla/Fun/zhongxing/Test/TestModel.caffemodel\")"
   ]
  },
  {
   "cell_type": "code",
   "execution_count": 18,
   "metadata": {},
   "outputs": [],
   "source": [
    "# import caffe\n",
    "# net = caffe.Net('/media/vanilla/Fun/zhongxing/Test/TestModel_deploy.prototxt', '/media/vanilla/Fun/zhongxing/Test/TestModel.caffemodel', caffe.TEST)\n",
    "# net.save('/media/vanilla/Fun/zhongxing/Test/TestModel_remove.caffemodel')"
   ]
  },
  {
   "cell_type": "code",
   "execution_count": null,
   "metadata": {},
   "outputs": [],
   "source": []
  }
 ],
 "metadata": {
  "kernelspec": {
   "display_name": "caffe",
   "language": "python",
   "name": "testcaffe"
  },
  "language_info": {
   "codemirror_mode": {
    "name": "ipython",
    "version": 3
   },
   "file_extension": ".py",
   "mimetype": "text/x-python",
   "name": "python",
   "nbconvert_exporter": "python",
   "pygments_lexer": "ipython3",
   "version": "3.5.6"
  }
 },
 "nbformat": 4,
 "nbformat_minor": 2
}
